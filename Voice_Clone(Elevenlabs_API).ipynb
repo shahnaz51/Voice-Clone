{
  "cells": [
    {
      "cell_type": "code",
      "execution_count": 3,
      "metadata": {
        "id": "5WhYWVm23U-9"
      },
      "outputs": [],
      "source": [
        "import requests\n",
        "import os\n",
        "import gradio as gr\n",
        "from fastapi import FastAPI, File, UploadFile\n",
        "import uvicorn\n",
        "import shutil"
      ]
    },
    {
      "cell_type": "code",
      "execution_count": 4,
      "metadata": {
        "id": "_vOUT2_H4oOs"
      },
      "outputs": [],
      "source": [
        "# Set up API Key and Voice ID (Replace with your actual values)\n",
        "ELEVENLABS_API_KEY = os.getenv(\"ELEVENLABS_API_KEY\", \"sk_b4c0a174eb8a69f6df38f4fccba0f7d5cbffd76956aaac84\")\n",
        "VOICE_ID = \"21m00Tcm4TlvDq8ikWAM\"  # Get this from ElevenLabs after uploading a sample\n",
        "\n",
        "def clone_voice(text):\n",
        "    url = f\"https://api.elevenlabs.io/v1/text-to-speech/{VOICE_ID}\"\n",
        "    headers = {\n",
        "        \"Authorization\": f\"Bearer {ELEVENLABS_API_KEY}\",\n",
        "        \"Content-Type\": \"application/json\"\n",
        "    }\n",
        "    data = {\n",
        "        \"text\": text,\n",
        "        \"voice_settings\": {\"stability\": 0.5, \"similarity_boost\": 0.75}\n",
        "    }\n",
        "\n",
        "    response = requests.post(url, headers=headers, json=data)\n",
        "\n",
        "    if response.status_code == 200:\n",
        "        audio_path = \"generated_voice.mp3\"\n",
        "        with open(audio_path, \"wb\") as f:\n",
        "            f.write(response.content)\n",
        "        return audio_path  # Return path to generated audio\n",
        "    else:\n",
        "        return f\"Error: {response.text}\""
      ]
    },
    {
      "cell_type": "code",
      "execution_count": 5,
      "metadata": {
        "id": "zj5xLAd_4wX6"
      },
      "outputs": [],
      "source": [
        "# Gradio UI: Upload Audio & Enter Text\n",
        "def process_audio(audio_file, text):\n",
        "    return clone_voice(text)  # Uses stored voice ID instead of processing audio file\n",
        "\n",
        "iface = gr.Interface(\n",
        "    fn=process_audio,\n",
        "    inputs=[gr.Audio(type=\"filepath\"), \"text\"],\n",
        "    outputs=\"audio\",\n",
        "    title=\"Voice Cloning App\"\n",
        ")\n"
      ]
    },
    {
      "cell_type": "code",
      "execution_count": 6,
      "metadata": {
        "id": "MLqUO4P141ew"
      },
      "outputs": [],
      "source": [
        "# FastAPI Server\n",
        "app = FastAPI()\n",
        "\n",
        "@app.post(\"/clone-voice/\")\n",
        "async def clone_voice_api(file: UploadFile = File(...), text: str = \"Hello, this is your cloned voice.\"):\n",
        "    file_location = f\"temp_{file.filename}\"\n",
        "    with open(file_location, \"wb\") as buffer:\n",
        "        shutil.copyfileobj(file.file, buffer)\n",
        "\n",
        "    generated_audio = clone_voice(text)  # Uses stored ElevenLabs voice ID\n",
        "\n",
        "    return {\"audio_file\": generated_audio}\n",
        "\n",
        "# Run FastAPI\n",
        "def run_fastapi():\n",
        "    uvicorn.run(app, host=\"0.0.0.0\", port=8000)\n"
      ]
    },
    {
      "cell_type": "code",
      "execution_count": 7,
      "metadata": {
        "colab": {
          "base_uri": "https://localhost:8080/",
          "height": 646
        },
        "id": "5wuzJ_BV49xA",
        "outputId": "67445e20-86f8-4ac5-e85f-ae2579e1c848"
      },
      "outputs": [
        {
          "name": "stdout",
          "output_type": "stream",
          "text": [
            "Running Gradio in a Colab notebook requires sharing enabled. Automatically setting `share=True` (you can turn this off by setting `share=False` in `launch()` explicitly).\n",
            "\n",
            "Colab notebook detected. To show errors in colab notebook, set debug=True in launch()\n",
            "* Running on public URL: https://395599c7f1537a2641.gradio.live\n",
            "\n",
            "This share link expires in 72 hours. For free permanent hosting and GPU upgrades, run `gradio deploy` from the terminal in the working directory to deploy to Hugging Face Spaces (https://huggingface.co/spaces)\n"
          ]
        },
        {
          "data": {
            "text/html": [
              "<div><iframe src=\"https://395599c7f1537a2641.gradio.live\" width=\"100%\" height=\"500\" allow=\"autoplay; camera; microphone; clipboard-read; clipboard-write;\" frameborder=\"0\" allowfullscreen></iframe></div>"
            ],
            "text/plain": [
              "<IPython.core.display.HTML object>"
            ]
          },
          "metadata": {},
          "output_type": "display_data"
        }
      ],
      "source": [
        "# Launch Gradio & FastAPI\n",
        "if __name__ == \"__main__\":\n",
        "    import threading\n",
        "\n",
        "    threading.Thread(target=run_fastapi).start()\n",
        "    iface.launch()\n"
      ]
    }
  ],
  "metadata": {
    "colab": {
      "provenance": []
    },
    "kernelspec": {
      "display_name": "Python 3",
      "name": "python3"
    },
    "language_info": {
      "name": "python"
    }
  },
  "nbformat": 4,
  "nbformat_minor": 0
}

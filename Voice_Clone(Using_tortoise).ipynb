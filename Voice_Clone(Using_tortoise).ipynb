{
  "cells": [
    {
      "cell_type": "code",
      "execution_count": 1,
      "metadata": {
        "id": "2vpodHAB6YOj"
      },
      "outputs": [],
      "source": [
        "import torch\n",
        "import torchaudio\n",
        "import torchaudio.transforms as transforms\n",
        "from transformers import pipeline\n",
        "import gradio as gr\n",
        "import numpy as np\n",
        "from fastapi import FastAPI\n",
        "\n"
      ]
    },
    {
      "cell_type": "code",
      "execution_count": 2,
      "metadata": {
        "id": "SFOIWnP6WS__"
      },
      "outputs": [],
      "source": [
        "\n",
        "# Load the pre-trained TTS model (Tortoise-TTS or ElevenLabs API integration)\n",
        "def generate_voice(text, reference_audio):\n",
        "    # Process reference audio\n",
        "    waveform, sample_rate = torchaudio.load(reference_audio)\n",
        "    transform = transforms.Resample(orig_freq=sample_rate, new_freq=22050)\n",
        "    waveform = transform(waveform)\n",
        "\n",
        "    # Use API or model for voice cloning\n",
        "    cloned_voice = pipeline(\"text-to-speech\", model=\"tortoise-tts\")\n",
        "    output_audio = cloned_voice(text, speaker=waveform.numpy())\n",
        "    return output_audio\n",
        "\n"
      ]
    },
    {
      "cell_type": "code",
      "execution_count": 3,
      "metadata": {
        "id": "aTNWGbVrv4QB"
      },
      "outputs": [],
      "source": [
        "# Gradio UI\n",
        "def voice_cloning_interface(text, reference_audio):\n",
        "    output_audio = generate_voice(text, reference_audio)\n",
        "    return output_audio\n",
        "\n"
      ]
    },
    {
      "cell_type": "code",
      "execution_count": 4,
      "metadata": {
        "id": "kujxvCiV7Buj"
      },
      "outputs": [],
      "source": [
        "# FastAPI deployment\n",
        "app = FastAPI()\n",
        "@app.get(\"/generate\")\n",
        "def generate(text: str, reference_audio: str):\n",
        "    return {\"audio\": voice_cloning_interface(text, reference_audio)}\n",
        "\n"
      ]
    },
    {
      "cell_type": "code",
      "execution_count": 5,
      "metadata": {
        "colab": {
          "base_uri": "https://localhost:8080/",
          "height": 646
        },
        "id": "HDTnVHSF7D1h",
        "outputId": "76e7c5ce-db3b-4b79-d549-25f1437e2a35"
      },
      "outputs": [
        {
          "name": "stdout",
          "output_type": "stream",
          "text": [
            "Running Gradio in a Colab notebook requires sharing enabled. Automatically setting `share=True` (you can turn this off by setting `share=False` in `launch()` explicitly).\n",
            "\n",
            "Colab notebook detected. To show errors in colab notebook, set debug=True in launch()\n",
            "* Running on public URL: https://2561657cc35db0089e.gradio.live\n",
            "\n",
            "This share link expires in 72 hours. For free permanent hosting and GPU upgrades, run `gradio deploy` from the terminal in the working directory to deploy to Hugging Face Spaces (https://huggingface.co/spaces)\n"
          ]
        },
        {
          "data": {
            "text/html": [
              "<div><iframe src=\"https://2561657cc35db0089e.gradio.live\" width=\"100%\" height=\"500\" allow=\"autoplay; camera; microphone; clipboard-read; clipboard-write;\" frameborder=\"0\" allowfullscreen></iframe></div>"
            ],
            "text/plain": [
              "<IPython.core.display.HTML object>"
            ]
          },
          "metadata": {},
          "output_type": "display_data"
        },
        {
          "data": {
            "text/plain": []
          },
          "execution_count": 5,
          "metadata": {},
          "output_type": "execute_result"
        }
      ],
      "source": [
        "# Launch UI\n",
        "demo = gr.Interface(fn=voice_cloning_interface, inputs=[\"text\", \"file\"], outputs=\"audio\")\n",
        "demo.launch()"
      ]
    }
  ],
  "metadata": {
    "accelerator": "GPU",
    "colab": {
      "gpuType": "T4",
      "provenance": []
    },
    "kernelspec": {
      "display_name": "Python 3",
      "name": "python3"
    },
    "language_info": {
      "name": "python"
    }
  },
  "nbformat": 4,
  "nbformat_minor": 0
}
